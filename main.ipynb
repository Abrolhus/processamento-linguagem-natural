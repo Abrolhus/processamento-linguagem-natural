{
 "cells": [
  {
   "cell_type": "code",
   "execution_count": 1,
   "id": "ca03e60e-ca8a-463d-a7bd-c8bad631849e",
   "metadata": {},
   "outputs": [
    {
     "name": "stderr",
     "output_type": "stream",
     "text": [
      "/home/abrolhus/programs/anaconda3/envs/nlp/lib/python3.10/site-packages/tqdm/auto.py:22: TqdmWarning: IProgress not found. Please update jupyter and ipywidgets. See https://ipywidgets.readthedocs.io/en/stable/user_install.html\n",
      "  from .autonotebook import tqdm as notebook_tqdm\n"
     ]
    }
   ],
   "source": [
    "import spacy\n",
    "from spacy import displacy\n",
    "from spacy.tokens import DocBin\n",
    "from pathlib import Path\n",
    "from tqdm.auto import tqdm\n"
   ]
  },
  {
   "cell_type": "markdown",
   "id": "6f6a74b6-4e5d-41fa-bf26-9c26ee7fbc0c",
   "metadata": {},
   "source": [
    "## Leitura do dataset"
   ]
  },
  {
   "cell_type": "markdown",
   "id": "5b1e5194-8969-4b8f-bfcb-595dd545ef51",
   "metadata": {},
   "source": [
    "### Primeiro é feito a leitura do dataset, dividido aleatoriamente em train (80%), test (10%), eval (10%)"
   ]
  },
  {
   "cell_type": "code",
   "execution_count": 46,
   "id": "30e21979-7679-49ce-bb74-7076516feba2",
   "metadata": {},
   "outputs": [],
   "source": [
    "def get_docs(path):\n",
    "    text_labels = []\n",
    "    texts = []\n",
    "    labels = []\n",
    "    docs = []\n",
    "\n",
    "    i = 0;\n",
    "    for folder in Path(path).iterdir():\n",
    "        print(folder.name)\n",
    "        for file in folder.glob('*.txt'):\n",
    "            #print(file)\n",
    "            with file.open() as f:\n",
    "                text_labels.append(folder.name)\n",
    "                texts.append(f.read())\n",
    "            i += 1\n",
    "            labels.append(folder.name)\n",
    "            data = tuple(zip(texts, text_labels))        \n",
    "    nlp = spacy.load(\"pt_core_news_md\")\n",
    "   \n",
    "    \n",
    "    for doc, label in tqdm(nlp.pipe(data, as_tuples=True), total = len(data)): \n",
    "        # tqdm ==> barra de progresso\n",
    "        doc.cats[labels[0]] = 0\n",
    "        doc.cats[labels[1]] = 0\n",
    "        doc.cats[labels[2]]  = 0\n",
    "        doc.cats[labels[3]]  = 0\n",
    "        \n",
    "        if (label== labels[0]):\n",
    "            doc.cats[labels[0]] = 1\n",
    "        elif (label==labels[1]):\n",
    "            doc.cats[labels[1]] = 1\n",
    "        elif (label==labels[2]):\n",
    "            doc.cats[labels[2]]  = 1\n",
    "        else:\n",
    "            doc.cats[labels[3]]  = 1\n",
    "        #print(doc.cats)\n",
    "        docs.append(doc)\n",
    "    return docs, data"
   ]
  },
  {
   "cell_type": "code",
   "execution_count": 3,
   "id": "bded81a3-9b41-4f4f-9bfc-faccc4ef906e",
   "metadata": {
    "tags": []
   },
   "outputs": [
    {
     "name": "stdout",
     "output_type": "stream",
     "text": [
      "3_Ensino_Medio\n",
      "['3_Ensino_Medio']\n",
      "2_Ensino_Fundamental_II\n",
      "['3_Ensino_Medio', '2_Ensino_Fundamental_II']\n",
      "4_Ensino_Superior\n",
      "['3_Ensino_Medio', '2_Ensino_Fundamental_II', '4_Ensino_Superior']\n",
      ".DS_Store\n",
      "1_Ensino_Fundamental_I\n",
      "['3_Ensino_Medio', '2_Ensino_Fundamental_II', '4_Ensino_Superior', '1_Ensino_Fundamental_I']\n"
     ]
    },
    {
     "name": "stderr",
     "output_type": "stream",
     "text": [
      "100%|█████████████████████████████████████████████████████████████████████████████████████| 1691/1691 [02:18<00:00, 12.18it/s]\n"
     ]
    }
   ],
   "source": [
    "docs_train1, data_train1 = get_docs(\"dataset_train/\")"
   ]
  },
  {
   "cell_type": "code",
   "execution_count": 4,
   "id": "84606051-d048-40d6-aba7-01146986425c",
   "metadata": {},
   "outputs": [
    {
     "name": "stdout",
     "output_type": "stream",
     "text": [
      "3_Ensino_Medio\n",
      "['3_Ensino_Medio']\n",
      "2_Ensino_Fundamental_II\n",
      "['3_Ensino_Medio', '2_Ensino_Fundamental_II']\n",
      "4_Ensino_Superior\n",
      "['3_Ensino_Medio', '2_Ensino_Fundamental_II', '4_Ensino_Superior']\n",
      "1_Ensino_Fundamental_I\n",
      "['3_Ensino_Medio', '2_Ensino_Fundamental_II', '4_Ensino_Superior', '1_Ensino_Fundamental_I']\n"
     ]
    },
    {
     "name": "stderr",
     "output_type": "stream",
     "text": [
      "100%|███████████████████████████████████████████████████████████████████████████████████████| 206/206 [00:15<00:00, 13.38it/s]\n"
     ]
    }
   ],
   "source": [
    "docs_test1, data_test1 = get_docs(\"dataset_test/\")"
   ]
  },
  {
   "cell_type": "code",
   "execution_count": 5,
   "id": "ef97cff9-0e66-4b20-aef5-d672bcbcf91c",
   "metadata": {},
   "outputs": [
    {
     "name": "stdout",
     "output_type": "stream",
     "text": [
      "3_Ensino_Medio\n",
      "['3_Ensino_Medio']\n",
      "2_Ensino_Fundamental_II\n",
      "['3_Ensino_Medio', '2_Ensino_Fundamental_II']\n",
      "4_Ensino_Superior\n",
      "['3_Ensino_Medio', '2_Ensino_Fundamental_II', '4_Ensino_Superior']\n",
      "1_Ensino_Fundamental_I\n",
      "['3_Ensino_Medio', '2_Ensino_Fundamental_II', '4_Ensino_Superior', '1_Ensino_Fundamental_I']\n"
     ]
    },
    {
     "name": "stderr",
     "output_type": "stream",
     "text": [
      "100%|███████████████████████████████████████████████████████████████████████████████████████| 206/206 [00:16<00:00, 12.12it/s]\n"
     ]
    }
   ],
   "source": [
    "docs_eval1, data_eval1 = get_docs(\"dataset_eval/\")"
   ]
  },
  {
   "cell_type": "markdown",
   "id": "8359e015-82a9-490b-a018-93217061232c",
   "metadata": {},
   "source": [
    "## Criação dos Modelos\n"
   ]
  },
  {
   "cell_type": "markdown",
   "id": "7e149dc9-2bf3-4a1c-aafe-890d3ccc654a",
   "metadata": {},
   "source": [
    "### Modelo 1"
   ]
  },
  {
   "cell_type": "code",
   "execution_count": 6,
   "id": "39d68896-7d06-4d8a-9f9c-bdc68479ec0f",
   "metadata": {},
   "outputs": [],
   "source": [
    "doc_bin = DocBin(docs=docs_train1)\n",
    "doc_bin.to_disk(\"./doc_bins/textcat_1_train.spacy\")\n",
    "\n",
    "doc_bin_eval = DocBin(docs=docs_eval1)\n",
    "doc_bin_eval.to_disk(\"./doc_bins/textcat_1_eval.spacy\")"
   ]
  },
  {
   "cell_type": "markdown",
   "id": "76c53e02-5af9-41c0-9f06-f741e2b4f33e",
   "metadata": {},
   "source": [
    "#### Treinando modelo 1"
   ]
  },
  {
   "cell_type": "code",
   "execution_count": 7,
   "id": "789460db-27cc-4345-ad5a-20e843321ee5",
   "metadata": {},
   "outputs": [
    {
     "name": "stdout",
     "output_type": "stream",
     "text": [
      "[2022-10-10 07:31:45,549] [DEBUG] Config overrides from CLI: ['paths.train', 'paths.dev']\n",
      "\u001b[38;5;4mℹ Saving to output directory: textcat_output\u001b[0m\n",
      "\u001b[38;5;4mℹ Using CPU\u001b[0m\n",
      "\u001b[1m\n",
      "=========================== Initializing pipeline ===========================\u001b[0m\n",
      "[2022-10-10 07:31:45,767] [INFO] Set up nlp object from config\n",
      "[2022-10-10 07:31:45,788] [DEBUG] Loading corpus from path: doc_bins/textcat_1_eval.spacy\n",
      "[2022-10-10 07:31:45,791] [DEBUG] Loading corpus from path: doc_bins/textcat_1_train.spacy\n",
      "[2022-10-10 07:31:45,792] [INFO] Pipeline: ['textcat']\n",
      "[2022-10-10 07:31:45,796] [INFO] Created vocabulary\n",
      "[2022-10-10 07:31:45,799] [INFO] Finished initializing nlp object\n",
      "[2022-10-10 07:32:16,650] [INFO] Initialized pipeline components: ['textcat']\n",
      "\u001b[38;5;2m✔ Initialized pipeline\u001b[0m\n",
      "\u001b[1m\n",
      "============================= Training pipeline =============================\u001b[0m\n",
      "[2022-10-10 07:32:16,668] [DEBUG] Loading corpus from path: doc_bins/textcat_1_eval.spacy\n",
      "[2022-10-10 07:32:16,670] [DEBUG] Loading corpus from path: doc_bins/textcat_1_train.spacy\n",
      "[2022-10-10 07:32:16,674] [DEBUG] Removed existing output directory: textcat_output/model-best\n",
      "[2022-10-10 07:32:16,676] [DEBUG] Removed existing output directory: textcat_output/model-last\n",
      "\u001b[38;5;4mℹ Pipeline: ['textcat']\u001b[0m\n",
      "\u001b[38;5;4mℹ Initial learn rate: 0.001\u001b[0m\n",
      "E    #       LOSS TEXTCAT  CATS_SCORE  SCORE \n",
      "---  ------  ------------  ----------  ------\n",
      "  0       0          0.19        9.13    0.09\n",
      "  0     200         20.28       57.46    0.57\n",
      "  0     400         14.82       60.36    0.60\n",
      "  0     600         11.52       60.92    0.61\n",
      "  0     800         14.52       64.63    0.65\n",
      "  0    1000         13.66       59.45    0.59\n",
      "  0    1200         10.99       58.26    0.58\n",
      "  0    1400         11.59       79.58    0.80\n",
      "  0    1600         13.34       74.18    0.74\n",
      "  1    1800         13.41       61.31    0.61\n",
      "  1    2000         13.51       61.85    0.62\n",
      "  1    2200         13.06       57.80    0.58\n",
      "  1    2400          9.64       74.59    0.75\n",
      "  1    2600         11.79       57.24    0.57\n",
      "  1    2800         12.47       51.37    0.51\n",
      "  1    3000         12.92       60.41    0.60\n",
      "\u001b[38;5;2m✔ Saved pipeline to output directory\u001b[0m\n",
      "textcat_output/model-last\n"
     ]
    }
   ],
   "source": [
    "!python -m spacy train textcat_config.cfg --verbose --output ./textcat_output --paths.train ./doc_bins/textcat_1_train.spacy --paths.dev ./doc_bins/textcat_1_eval.spacy"
   ]
  },
  {
   "cell_type": "markdown",
   "id": "dc7d3009-cf85-4c4e-9a3d-e1e3ff154e5d",
   "metadata": {},
   "source": [
    "#### Testando manualmente modelo 1"
   ]
  },
  {
   "cell_type": "code",
   "execution_count": null,
   "id": "4bf199b6-afd8-4191-86fb-fbb2f61c81fa",
   "metadata": {
    "tags": []
   },
   "outputs": [],
   "source": [
    "nlp_textcat = spacy.load(\"textcat_output/model-best\")\n",
    "with open('./dataset_test/3_Ensino_Medio/123_950.txt') as f:\n",
    "    test_text = f.read()\n",
    "    doc2 = nlp_textcat(test_text)\n",
    "    print(\"Texto: \"+ test_text)\n",
    "    print(\"Nivel:\"+ \" 3_Ensino_Medio\")\n",
    "    print(\"Nivel do modelo:\") \n",
    "    print(doc2.cats)"
   ]
  },
  {
   "cell_type": "code",
   "execution_count": null,
   "id": "bd2d8866-3763-40c8-9c23-0f379bce3d4d",
   "metadata": {},
   "outputs": [],
   "source": []
  },
  {
   "cell_type": "markdown",
   "id": "8299f079-306b-4af1-b829-14ba5e34439d",
   "metadata": {},
   "source": [
    "### Modelo 2"
   ]
  },
  {
   "cell_type": "markdown",
   "id": "235afb20-b726-43bd-8d59-2e28889716f8",
   "metadata": {},
   "source": [
    "com pré-processamento dos textos, removendo *stop words*, pontuação e deixando somente palavras base."
   ]
  },
  {
   "cell_type": "code",
   "execution_count": 47,
   "id": "bdeadfc9-4e23-4b7a-a478-7d4c3e5dd1b1",
   "metadata": {},
   "outputs": [],
   "source": [
    "def get_clean_token_list(doc):\n",
    "    clean_token_list = []\n",
    "    for token in doc:\n",
    "        if not token.is_punct and not token.is_stop:\n",
    "            txt = token.lemma_.lower().strip()\n",
    "            if txt != \"\":\n",
    "                clean_token_list.append(txt)\n",
    "    return clean_token_list"
   ]
  },
  {
   "cell_type": "code",
   "execution_count": 48,
   "id": "9ec9003b-8701-4689-82cb-380f2751c802",
   "metadata": {
    "tags": []
   },
   "outputs": [
    {
     "name": "stdout",
     "output_type": "stream",
     "text": [
      "3_Ensino_Medio\n",
      "2_Ensino_Fundamental_II\n",
      "4_Ensino_Superior\n",
      "1_Ensino_Fundamental_I\n"
     ]
    },
    {
     "name": "stderr",
     "output_type": "stream",
     "text": [
      "100%|█████████████████████████████████████████████████████████████████████████████████████| 1691/1691 [02:12<00:00, 12.74it/s]\n"
     ]
    },
    {
     "name": "stdout",
     "output_type": "stream",
     "text": [
      "3_Ensino_Medio\n",
      "2_Ensino_Fundamental_II\n",
      "4_Ensino_Superior\n",
      "1_Ensino_Fundamental_I\n"
     ]
    },
    {
     "name": "stderr",
     "output_type": "stream",
     "text": [
      "100%|███████████████████████████████████████████████████████████████████████████████████████| 206/206 [00:18<00:00, 11.13it/s]\n"
     ]
    },
    {
     "name": "stdout",
     "output_type": "stream",
     "text": [
      "3_Ensino_Medio\n",
      "2_Ensino_Fundamental_II\n",
      "4_Ensino_Superior\n",
      "1_Ensino_Fundamental_I\n"
     ]
    },
    {
     "name": "stderr",
     "output_type": "stream",
     "text": [
      "100%|███████████████████████████████████████████████████████████████████████████████████████| 206/206 [00:16<00:00, 12.57it/s]\n"
     ]
    },
    {
     "name": "stdout",
     "output_type": "stream",
     "text": [
      "{'3_Ensino_Medio': 1}\n"
     ]
    }
   ],
   "source": [
    "docs_train2, data_train2 = get_docs(\"dataset_train/\")\n",
    "docs_test2,  data_test2  = get_docs(\"dataset_test/\")\n",
    "docs_eval2,  data_eval2  = get_docs(\"dataset_eval/\")\n",
    "print(docs_test2[0].cats)"
   ]
  },
  {
   "cell_type": "code",
   "execution_count": 52,
   "id": "873473db-c6d0-4c44-aae8-3439931a1d9d",
   "metadata": {
    "tags": []
   },
   "outputs": [],
   "source": [
    "clean_train =[(\" \".join(get_clean_token_list(doc)), doc.cats) for doc in docs_train2]\n",
    "clean_test = [(\" \".join(get_clean_token_list(doc)), doc.cats) for doc in docs_test2]\n",
    "clean_eval = [(\" \".join(get_clean_token_list(doc)), doc.cats) for doc in docs_eval2]"
   ]
  },
  {
   "cell_type": "code",
   "execution_count": 53,
   "id": "86115dda-7fd0-44d5-b5f7-2e5659fee2a5",
   "metadata": {
    "tags": []
   },
   "outputs": [
    {
     "name": "stdout",
     "output_type": "stream",
     "text": [
      "[('inca passar chamar depreciativamente chiriguano preferer referir se mesmo guarani avá século xvi chegada colonizador europeu povo tupis temiminó tupiniquim tabajara aliar português potiguar caetés tamoio aliar francês carijós guarani aliar espanhol resultado destruição aldeia indígeno escravização doença trazir europeu fuga população indígeno interior continente aldeamento criar padre jesuíta redução missão índio ser catequizar trabalhar padre jesuíta perd cultura indígena importante fator estimular escravização índio mulher europeu chegar américa ataque aldeia indígeno apresamento índia tornar se saída obtenção mulher filho de esse união chamar mameluco tomar expedição escravizadora índio direção interior continente chamado entrada bandeira índio tupis reagir política escravização fugir interior continente atacar povoação português brasil importante rebelião tupi português confederação tamoios reunir tupinambá cabo frio atual brasileiro rio janeiro bertioga atual brasileiro paulo 1554 1567 tamoio termo tupi tamuya velho significar revolta incentivar ancião tribo ser liderado cunhambebe posteriormente aimberê reflexo confederação encontrar episódio frança antártica frança tentar criar colônia baía guanabara aliar se índio tamoio local colônia francês acabar destruir aliança português índio tupiniquim temiminó episódio culminar fundação cidade rio janeiro 1565 niterói 1567', {'3_Ensino_Medio': 1}), ('capoeira história século xvi costume povo pastor sul atual angola áfrica comemorar iniciação jovem vida adulto cerimônia chamar ngolo significar zebra língua quimbunda cerimônia homem disputar competição luta animar toque atabaque ganhar conseguir encostar pé cabeça adversário vencedor ter direito escolher pagar dote noiva jovem estar ser iniciar vida adulto chegada invasor português escravização povo africano modalidade luta trazir porto benguela américa especialmente brasil fixar escravo africano trazer américa luta chegar ilha caribenho martinica continuar praticar nome agya ladja danmye brasil restante américa escravo africano ser submetir regime trabalho forçar eram forçar adoção língua português religião católico expressão revolta tratamento violento ser submetir escravo passar praticar luta tradicional sul angola terreno matar rala conhecer capoeira termo tupi kapuera significar matar referir trecho matar ser queimar cortar abrir terreno plantação índio religião africano continuar praticar escravo fachada católico fenômeno sincretismo religioso capoeira praticar fachada dança acompanhamento musical principal instrumento musical utilizar continuar ser berimbau instrumento origem africano espécie arco arame tocar vareta cujo som amplificar cabaça fruto cuieira coité árvore família cucurbitácea nome científico crescentia cujete tocar berimbau utilizar moeda chocalho caxixi usar marcar ritmo berimbau', {'3_Ensino_Medio': 1}), ('introdução física luz luz conhecer gama comprimento onda olho humano sensível tratar se energia propaga onda eletromagnético pulsante sentido radiação electromagnético situar radiação infravermelho radiação ultravioleta grandeza físico básico luz radiação electromagnético brilho amplitude cor frequência polarização ângulo vibração devido dualidade onda-partículo luz exibir simultaneamente propriedade ondas partícula corpo luminoso corpo emitente luz próprio enviar luz receber chamar corpo iluminado tomar referência propagação luz considerar transparência opacidade translucidez meio transparente permitir propagação luz possibilitar objeto nitidez opaco permitir propagação luz translúcido propagação parcial irregular luz incidir superfície separação meio qualquer incidir fenômeno reflexão luz incidir projeção corpo luminoso iluminar imagem representação óptico objeto espelhos imagem formar se devido reflexão luz espelho formar se raio refletir imagem real prolongamento raio refletidos(imagem virtual tomar critério assumir objeto imagem direito mesmo objeto invertir contrario objeto imagem objeto mesmo distancia dizer imagem simétrico objeto caso contrário assimétrico espelho plano imagem virtual simétrico tamanho objeto de esse característica apresentar reversão imagem reflexão regular luz obedecer lei básico espelho esférico superfície refletora esfera', {'3_Ensino_Medio': 1}), ('introdução química aplicações ácido base sal óxir composto químico ácido clorídrico solução aquosa altamente ácido cloreto hidrogênio hcl extremamente corrosivo manusear devido precaução ácido clorídrico normalmente utilizar reagente químico ácido forte ionizar completamente solução aquosa ácido clorídrico concentrar ph 1 solução aquosa hcl 1 molar ph = 0 ácido clorídrico descobrir torno ano 800 alquimista perso jabir ibn hayyan geber misturar sal comum ácido sulfúrico vitríolo fato obter sal comum alquimista europeu espírito sal ácido sal gasoso chamar ar ácido marinho antigo ácido muriático mesmo origem muriático significar pertencente salmoura sal ácido clorídrico impuro vender designação remoção mancha resultante umidade piso parede pedra azulejo tijolo aqua reger água regia nome antigo designar mistura ácido clorídrico ácido nítrico misturar capaz dissolver metal nobre ouro au suco digestivo humano consistir mistura ácido clorídrico várias enzima ajudar proteína presente comida temperatura ambiente cloreto hidrogênio gás incolor ligeiramente amarelar corrosivo inflamável pesado ar odor fortemente irritante expor ar cloreto hidrogênio vapor corrosivo coloração branco cloreto hidrogênio liberar vulcão cloreto hidrogênio numeroso uso limpar tratar galvanizar metal curtir couro produção refinação variedade produto cloreto hidrogênio formar se durante queima plástico', {'3_Ensino_Medio': 1}), ('círculo poder se obter função trigonométrico relação triângulo retângulo origem coordenar x 0 poder colocar função trigonométrico plano cartesiano eixo abcissa equivaler ângulo radiano eixo ordenar contradomínio função colocando-se resultado obter função seno plano obteremos observe função seno função ímpar sen -x = -sen x ser x pertencente real note função compor infinito intervalo 2π dizer período função sen x 2π contradomínio pertencer intervalo -1 1 distância centro limite função amplitude caso amplitude função igual 1 gráfico função seno senoide pode-se determinar seno ângulo seguinte equação y ângulo z inteiro gráfico função cosseno seguinte função par cos -x = cos x ser x pertencente conjunto real igual função seno função cosseno período igual 2π amplitude igual 1 gráfico função cosseno cossenoide similar função seno poder transformar ângulo real 0 ° < x ≤ 90 ° obter cosseno y ângulo z inteiro gráfico função tangente função tangente função ímpar quociente função ímpar função par tan -x = tan x x ∈ r período função igual π amplitude estender se infinito gráfico função tangente tangentoide determinar tangente ângulo 0 ° ≤ x < 90 ° y ângulo z inteiro dado + b sen cx dπ + b cos cx dπ equação senoide cossenoide respectivamente determinar se de este valor tem-se amplitude dar média aritmético distância ordenada limite diretamente figura definir seno cosseno triângulo retângulo quadrante convencional escrever quadrado função trigonométrico colocandor se sinal imediatamente nome função escrever geometria triângulo retângulo prova caso formula_22 ser ângulo quadrante caso formula_23 de ele seno cosseno valer 1 outro vale 0 soma quadrado 1 caso analogamente finalmente ser válido ângulo real x lembrando', {'3_Ensino_Medio': 1}), ('tipicamente segmento corpo possuir gânglio de ele fundam formar cérebro gânglio 7 segmento cabeça contém cérebro gânglio supraesofágico nervoso inseto cérebro anatomicamente dividir protocérebro deutocérebro tritocérebro imediatamente cérebro gânglio supraesofágico controlar mandíbula artrópode possuir órgão sensorial desenvolver incluir olho composto visão antena olfato percepção feromônio informação sensorial de este órgão processar cérebro molusco artigo principal molusco moluscos bivalve lesma grupo neurônio intercomunicante chamar gânglio nervoso lebre-do-mar aplysia ser utilizar extensamente experimento neurociência causa simplicidade capacidade aprender associação simples cefalópode lula polvo possuir cérebro relativamente complexo animal apresentar olho sofisticar invertebrado axônio cefalópode carecer mielina isolante permitir reação rápido vertebrado obter velocidade condução rápido controlar músculo tentáculo distante axônio cefalópode precisar diâmetro avantajar espécie cefalópode motivo axônio lula usar neurocientista trabalhar propriedade básico ação potencial vertebrados artigo principal vertebrados organização nervoso vertebrado periférico somático autônomo simpático parassimpático entérico central principal nervoso animal vertebrado frequentemente dividir nervoso central snc nervoso periférico snp snc consistir encéfalo medula espinhal snp consistir neurônio snc comumente denominar nervo realmente apêndice axónio célula nervoso considerar constituinte snp nervoso periférico dividir nervoso somático nervoso autônomo nervoso somático responsável coordenação movimento corpo receber estímulo externo regular atividade controle consciente nervoso autónomo dividir nervoso simpático nervoso parassimpático nervoso entérico nervoso simpático responder perigo iminente stress responsável incremento batimento cardíaco pressão arterial mudança fisiológico juntamente sensação excitação sentir devido incremento adrenalina nervoso parassimpático outro tornar se evidente pessoa descansar sentir relaxada responsável coisa constrição pupilar redução batimento cardíaco dilatação vaso sanguíneo estimulação sistema digestivo genitourinário papel nervoso entérico gerenciar aspecto digestão esôfago estômago intestino delgar cólon', {'3_Ensino_Medio': 1}), ('colocamos preposição conjunção item considerarr exerçar função possuar classe gramatical verdade conectivo ligar vocábulo oração dar subordinativo livro pedro venhas coordenativa volteer i interjeição interjeição falar início estudo considerar classe palavra frase situação vivo valha-me deus perceber livro didático passar aluno gramática geralmente desprover fato científico classe gramatical estudar atualmente corresponder realmente mau estabelecer diferença classe função classe gramatical dever entender função morfológico propriamente dizer ser nome verbo pronome partir critério morfo-semântico sentido definir auxílio função entender relação processam eixo sintagmático paradigmático depender função contexto frasal substantivo adjetivo advérbio existem conectivo relacionar vocábulo frase entanto exercer função possuír classe interjeição frase situação constutuir função classe entender graduado letra der teoria discutir plenitude crítico mesmo poder representar esperança futuro tenhamos professor senso crítico material didático utilizar compromisso conteúdo ministrado almeida napoleão mendes 1983 gramática metódico língua português 32ª ed. paulo saraiva cabral leonor scliar 1979 introdução lingüística 4ª ed. porto alegre editora globo câmara jr. joaquim mattoso 1996 dicionário lingüística gramático 17ª ed. petrópolis vozes 1972 dispersos 1ª ed. rio janeiro ed fundação getúlio vargas 1977 princípio lingüística 5ª ed. rio janeiro padrão coutinho ismael lima 1976 gramática histórico 7ª ed. rio janeiro livro técnico ferreira mauro 1992 aprender praticar gramática paulo ed ftd luft celso pedro 1989 manual português gramática ortografia oficial redação literatura 5ª ed. rio janeiro ed globo monteiro josé lemos 1991 morfologia português 3ª ed campinas-sp pontes 1978 caráter pronominal artigo português in revista letras v.1 nº 2 fortaleza ufc sacconi luís antônio 1990 gramática teoria paulo atual savioli francisco platão 1994 gramática 44 lição paulo ática silva luiz antônio 1989 nome determinante 4ª ed. paulo editora atual terra ernani 1991 curso prático gramática paulo ed scipione travaglia luiz carlos 1996 gramática interação proposta ensino gramática 1º 2º grau 1ª ed. paulo cortez', {'3_Ensino_Medio': 1}), ('português exercícios gerais morfossintaxe n2 marque alternativa correto olhar frase responder conferir resposta nota observação carlos lindo desenho porão casa manhã preposição simples substantivo sujeito determinado composto preposição determinada simples substantivo comum sujeito indeterminado preposição nomeação sujeito elíptico + substantivo sujeito determinado simples verbo 1ª pessoa plural presente indicativo vtd verbo 1ª pessoa singular presente subjuntivo vtd verbo 3ª pessoa singular pretérito imperfeito indicativo vti verbo 1ª pessoa plural presente indicativo vtdi verbo infinitivo pessoal masculino singular + verbo 3ª pessoa singular pretérito imperfeito indicativo vtd adjetivo masculino plural referente carlos + adjetivo masculino plural referente desenho advérbio modo referente advérbio causa referente desenho + substantivo comum abstrato simples primitivo substantivo comum concreto simples primitivo substantivo abstrato compor primitivo substantivo comum concreto compor derivar preposição acidental preposição essencial origem + contração preposição essencial artigo preposição essencial + adjunto adverbial adjunto adverbial origem objeto direto objeto indireto adjunto adnominal adjunto adverbial origem adjunto adnominal origem + adjunto advebial pronome pessoal possessivo 3ª pessoa plural feminino + pronome pessoal possessivo 3ª pessoa singular feminino pronome relativo 3ª pessoa singular feminino pronome pessoal possessivo 1ª pessoa singular feminino preposição preposição duração preposição época + preposição advérbio preposição adjetivo + substantivo adjunto adverbial raio + adjunto adnominal raio adjunto adverbial olhos de ela adjunto adnominal olhos de ela + verbo ligação adjunto adverbial preposição conjunção adjunto adverbial suposição + adjunto adverbial intensidade adjunto adverbial modo verbo 3ª pessoa plural presente indicativo pronome relativo ligar oração comparando-as negativamente pronome interrogativo variável ligar oração comparando-as igualmente + pronome relativo ligar oração comparando-as igualmente + artigo masculino plural determinar olho adjunto adnominal de ela verbo ligação ligar pronome substantivo possessivo preposição relacionar sentido + plural determinar ocorrer concordância plural vario pessoa olho plural significar posse único pessoa responde origem caso + + responde pessoa referente posse caso + responde sujeito frase caso indeterminado + elíptico faremos determinado simples festa determinado simples adjunto adverbial relacionar festa amanhã adjetivo relacionar festa adjunto adnominal faremos + duplo determinante maximizar adjetivo artigo + advérbio preposição conjunção cordenativo explicativa locução adverbial + locução prepositivo substantivo masculino + advérbio', {'3_Ensino_Medio': 1}), ('1966 visar combater crescente oposição interno fracasso plano econômico governo comunista mao tsé-tung lançar revolução cultural proletária perseguir elemento opositor regime comunista especialmente intelectual processo resultar virtual ensino superior país 1971 república popular china reconhecer organização nações unidas governo legítimo china substituir república china sediar oficialmente cidade nanquim governar fato cidade taipé ilha formosa 1976 morte mao tsé-tung deng xiaoping assumir liderança país flexibilizar comunismo país permitir iniciativa privado pequeno escala medida estimular economia país passar apresentar espetacular taxa crescimento 1989 protesto popular democracia reforma econômico desencadear morte ataque cardíaco líder reformista hu yaobang reprimir violentamente exército praça paz celestial pequim causar indeterminar morte ano dalai lama tenzin gyatso ganhar prêmio nobel paz luta independência tibete 1997 colônia inglês hong kong passar pertencer república popular china acordo bilateral 1999 colônia português macau passar controle república popular china ex-colônia mantiveram autonomia político interno 2049 2008 cidade pequim sediar jogo olímpico verão crescimento contínuo intenso produto interno bruto país década 1980 levar conquista 2010 posto produto interno bruto mundo estados unidos ano escritor chinês liu xiabo ganhar prêmio nobel paz luta liberdade expressão país natal liu receber prêmio preso acusar subversão chinês', {'3_Ensino_Medio': 1}), ('tornar principal ídolo história clube 1977 demolir cine metro-tijuca 9 julho 1977 coreto jardim méier jovem pastor edir macedo iniciar pregação dar início igreja universal reino deus denominação evangélico expandir enormemente ano seguinte 1978 museu índio mudar se casarão histórico rua palmeiras botafogo 8 julho ano perda arte cidade mundo incêndio destruir praticamente acervo museu arte moderna obra importante pablo picasso joan miró salvador dalí perder ano fechar cinema rio 1979 inaugurar catedral católico cidade avenida república chile formar desmonte parcial morro santo antônio substituir igreja senhora monte carmo sé cidade catedral sede próprio arquidiocese rio janeiro história catedral consagrar ocasião papa joão paulo ii visita papa cidade cadeia lanchonete mcdonalds chegar brasil abrir loja rua hilário gouveia copacabana entrou operação metrô rio janeiro inicialmente estação praça central presidente vargas cinelândia glória chafariz ferro localizar praça bandeira deslocar preencher vazio deixar demolição palácio monroe centro março ano inaugurar prédio arquivo cidade rio janeiro prédio localizar bairro cidade destinar abrigar documentação gerar governo cidade fundação século xvi projeto prédio arquiteto edison edmundo musa', {'3_Ensino_Medio': 1})]\n"
     ]
    }
   ],
   "source": [
    "print(clean_train[:10])\n",
    "nlp = spacy.load(\"pt_core_news_sm\")"
   ]
  },
  {
   "cell_type": "code",
   "execution_count": 41,
   "id": "182a8cab-2627-45af-9d80-ee529139591c",
   "metadata": {
    "collapsed": true,
    "jupyter": {
     "outputs_hidden": true,
     "source_hidden": true
    },
    "tags": []
   },
   "outputs": [
    {
     "name": "stdout",
     "output_type": "stream",
     "text": [
      "{'3_Ensino_Medio': 0, '2_Ensino_Fundamental_II': 0, '4_Ensino_Superior': 0, '1_Ensino_Fundamental_I': 0}\n",
      "{'3_Ensino_Medio': 0, '2_Ensino_Fundamental_II': 0, '4_Ensino_Superior': 0, '1_Ensino_Fundamental_I': 0}\n",
      "{'3_Ensino_Medio': 0, '2_Ensino_Fundamental_II': 0, '4_Ensino_Superior': 0, '1_Ensino_Fundamental_I': 0}\n",
      "{'3_Ensino_Medio': 0, '2_Ensino_Fundamental_II': 0, '4_Ensino_Superior': 0, '1_Ensino_Fundamental_I': 0}\n",
      "{'3_Ensino_Medio': 0, '2_Ensino_Fundamental_II': 0, '4_Ensino_Superior': 0, '1_Ensino_Fundamental_I': 0}\n",
      "{'3_Ensino_Medio': 0, '2_Ensino_Fundamental_II': 0, '4_Ensino_Superior': 0, '1_Ensino_Fundamental_I': 0}\n",
      "{'3_Ensino_Medio': 0, '2_Ensino_Fundamental_II': 0, '4_Ensino_Superior': 0, '1_Ensino_Fundamental_I': 0}\n",
      "{'3_Ensino_Medio': 0, '2_Ensino_Fundamental_II': 0, '4_Ensino_Superior': 0, '1_Ensino_Fundamental_I': 0}\n",
      "{'3_Ensino_Medio': 0, '2_Ensino_Fundamental_II': 0, '4_Ensino_Superior': 0, '1_Ensino_Fundamental_I': 0}\n",
      "{'3_Ensino_Medio': 0, '2_Ensino_Fundamental_II': 0, '4_Ensino_Superior': 0, '1_Ensino_Fundamental_I': 0}\n",
      "{'3_Ensino_Medio': 0, '2_Ensino_Fundamental_II': 0, '4_Ensino_Superior': 0, '1_Ensino_Fundamental_I': 0}\n",
      "{'3_Ensino_Medio': 0, '2_Ensino_Fundamental_II': 0, '4_Ensino_Superior': 0, '1_Ensino_Fundamental_I': 0}\n",
      "{'3_Ensino_Medio': 0, '2_Ensino_Fundamental_II': 0, '4_Ensino_Superior': 0, '1_Ensino_Fundamental_I': 0}\n",
      "{'3_Ensino_Medio': 0, '2_Ensino_Fundamental_II': 0, '4_Ensino_Superior': 0, '1_Ensino_Fundamental_I': 0}\n",
      "{'3_Ensino_Medio': 0, '2_Ensino_Fundamental_II': 0, '4_Ensino_Superior': 0, '1_Ensino_Fundamental_I': 0}\n",
      "{'3_Ensino_Medio': 0, '2_Ensino_Fundamental_II': 0, '4_Ensino_Superior': 0, '1_Ensino_Fundamental_I': 0}\n",
      "{'3_Ensino_Medio': 0, '2_Ensino_Fundamental_II': 0, '4_Ensino_Superior': 0, '1_Ensino_Fundamental_I': 0}\n",
      "{'3_Ensino_Medio': 0, '2_Ensino_Fundamental_II': 0, '4_Ensino_Superior': 0, '1_Ensino_Fundamental_I': 0}\n",
      "{'3_Ensino_Medio': 0, '2_Ensino_Fundamental_II': 0, '4_Ensino_Superior': 0, '1_Ensino_Fundamental_I': 0}\n",
      "{'3_Ensino_Medio': 0, '2_Ensino_Fundamental_II': 0, '4_Ensino_Superior': 0, '1_Ensino_Fundamental_I': 0}\n",
      "{'3_Ensino_Medio': 0, '2_Ensino_Fundamental_II': 0, '4_Ensino_Superior': 0, '1_Ensino_Fundamental_I': 0}\n",
      "{'3_Ensino_Medio': 0, '2_Ensino_Fundamental_II': 0, '4_Ensino_Superior': 0, '1_Ensino_Fundamental_I': 0}\n",
      "{'3_Ensino_Medio': 0, '2_Ensino_Fundamental_II': 0, '4_Ensino_Superior': 0, '1_Ensino_Fundamental_I': 0}\n",
      "{'3_Ensino_Medio': 0, '2_Ensino_Fundamental_II': 0, '4_Ensino_Superior': 0, '1_Ensino_Fundamental_I': 0}\n",
      "{'3_Ensino_Medio': 0, '2_Ensino_Fundamental_II': 0, '4_Ensino_Superior': 0, '1_Ensino_Fundamental_I': 0}\n",
      "{'3_Ensino_Medio': 0, '2_Ensino_Fundamental_II': 0, '4_Ensino_Superior': 0, '1_Ensino_Fundamental_I': 0}\n",
      "{'3_Ensino_Medio': 0, '2_Ensino_Fundamental_II': 0, '4_Ensino_Superior': 0, '1_Ensino_Fundamental_I': 0}\n",
      "{'3_Ensino_Medio': 0, '2_Ensino_Fundamental_II': 0, '4_Ensino_Superior': 0, '1_Ensino_Fundamental_I': 0}\n",
      "{'3_Ensino_Medio': 0, '2_Ensino_Fundamental_II': 0, '4_Ensino_Superior': 0, '1_Ensino_Fundamental_I': 0}\n",
      "{'3_Ensino_Medio': 0, '2_Ensino_Fundamental_II': 0, '4_Ensino_Superior': 0, '1_Ensino_Fundamental_I': 0}\n",
      "{'3_Ensino_Medio': 0, '2_Ensino_Fundamental_II': 0, '4_Ensino_Superior': 0, '1_Ensino_Fundamental_I': 0}\n",
      "{'3_Ensino_Medio': 0, '2_Ensino_Fundamental_II': 0, '4_Ensino_Superior': 0, '1_Ensino_Fundamental_I': 0}\n",
      "{'3_Ensino_Medio': 0, '2_Ensino_Fundamental_II': 0, '4_Ensino_Superior': 0, '1_Ensino_Fundamental_I': 0}\n",
      "{'3_Ensino_Medio': 0, '2_Ensino_Fundamental_II': 0, '4_Ensino_Superior': 0, '1_Ensino_Fundamental_I': 0}\n",
      "{'3_Ensino_Medio': 0, '2_Ensino_Fundamental_II': 0, '4_Ensino_Superior': 0, '1_Ensino_Fundamental_I': 0}\n",
      "{'3_Ensino_Medio': 0, '2_Ensino_Fundamental_II': 0, '4_Ensino_Superior': 0, '1_Ensino_Fundamental_I': 0}\n",
      "{'3_Ensino_Medio': 0, '2_Ensino_Fundamental_II': 0, '4_Ensino_Superior': 0, '1_Ensino_Fundamental_I': 0}\n",
      "{'3_Ensino_Medio': 0, '2_Ensino_Fundamental_II': 0, '4_Ensino_Superior': 0, '1_Ensino_Fundamental_I': 0}\n",
      "{'3_Ensino_Medio': 0, '2_Ensino_Fundamental_II': 0, '4_Ensino_Superior': 0, '1_Ensino_Fundamental_I': 0}\n",
      "{'3_Ensino_Medio': 0, '2_Ensino_Fundamental_II': 0, '4_Ensino_Superior': 0, '1_Ensino_Fundamental_I': 0}\n",
      "{'3_Ensino_Medio': 0, '2_Ensino_Fundamental_II': 0, '4_Ensino_Superior': 0, '1_Ensino_Fundamental_I': 0}\n",
      "{'3_Ensino_Medio': 0, '2_Ensino_Fundamental_II': 0, '4_Ensino_Superior': 0, '1_Ensino_Fundamental_I': 0}\n",
      "{'3_Ensino_Medio': 0, '2_Ensino_Fundamental_II': 0, '4_Ensino_Superior': 0, '1_Ensino_Fundamental_I': 0}\n",
      "{'3_Ensino_Medio': 0, '2_Ensino_Fundamental_II': 0, '4_Ensino_Superior': 0, '1_Ensino_Fundamental_I': 0}\n",
      "{'3_Ensino_Medio': 0, '2_Ensino_Fundamental_II': 0, '4_Ensino_Superior': 0, '1_Ensino_Fundamental_I': 0}\n",
      "{'3_Ensino_Medio': 0, '2_Ensino_Fundamental_II': 0, '4_Ensino_Superior': 0, '1_Ensino_Fundamental_I': 0}\n",
      "{'3_Ensino_Medio': 0, '2_Ensino_Fundamental_II': 0, '4_Ensino_Superior': 0, '1_Ensino_Fundamental_I': 0}\n",
      "{'3_Ensino_Medio': 0, '2_Ensino_Fundamental_II': 0, '4_Ensino_Superior': 0, '1_Ensino_Fundamental_I': 0}\n",
      "{'3_Ensino_Medio': 0, '2_Ensino_Fundamental_II': 0, '4_Ensino_Superior': 0, '1_Ensino_Fundamental_I': 0}\n",
      "{'3_Ensino_Medio': 0, '2_Ensino_Fundamental_II': 0, '4_Ensino_Superior': 0, '1_Ensino_Fundamental_I': 0}\n",
      "{'3_Ensino_Medio': 0, '2_Ensino_Fundamental_II': 0, '4_Ensino_Superior': 0, '1_Ensino_Fundamental_I': 0}\n",
      "{'3_Ensino_Medio': 0, '2_Ensino_Fundamental_II': 0, '4_Ensino_Superior': 0, '1_Ensino_Fundamental_I': 0}\n",
      "{'3_Ensino_Medio': 0, '2_Ensino_Fundamental_II': 0, '4_Ensino_Superior': 0, '1_Ensino_Fundamental_I': 0}\n",
      "{'3_Ensino_Medio': 0, '2_Ensino_Fundamental_II': 0, '4_Ensino_Superior': 0, '1_Ensino_Fundamental_I': 0}\n",
      "{'3_Ensino_Medio': 0, '2_Ensino_Fundamental_II': 0, '4_Ensino_Superior': 0, '1_Ensino_Fundamental_I': 0}\n",
      "{'3_Ensino_Medio': 0, '2_Ensino_Fundamental_II': 0, '4_Ensino_Superior': 0, '1_Ensino_Fundamental_I': 0}\n",
      "{'3_Ensino_Medio': 0, '2_Ensino_Fundamental_II': 0, '4_Ensino_Superior': 0, '1_Ensino_Fundamental_I': 0}\n",
      "{'3_Ensino_Medio': 0, '2_Ensino_Fundamental_II': 0, '4_Ensino_Superior': 0, '1_Ensino_Fundamental_I': 0}\n",
      "{'3_Ensino_Medio': 0, '2_Ensino_Fundamental_II': 0, '4_Ensino_Superior': 0, '1_Ensino_Fundamental_I': 0}\n",
      "{'3_Ensino_Medio': 0, '2_Ensino_Fundamental_II': 0, '4_Ensino_Superior': 0, '1_Ensino_Fundamental_I': 0}\n",
      "{'3_Ensino_Medio': 0, '2_Ensino_Fundamental_II': 1, '4_Ensino_Superior': 0, '1_Ensino_Fundamental_I': 0}\n",
      "{'3_Ensino_Medio': 0, '2_Ensino_Fundamental_II': 1, '4_Ensino_Superior': 0, '1_Ensino_Fundamental_I': 0}\n",
      "{'3_Ensino_Medio': 0, '2_Ensino_Fundamental_II': 1, '4_Ensino_Superior': 0, '1_Ensino_Fundamental_I': 0}\n",
      "{'3_Ensino_Medio': 0, '2_Ensino_Fundamental_II': 1, '4_Ensino_Superior': 0, '1_Ensino_Fundamental_I': 0}\n",
      "{'3_Ensino_Medio': 0, '2_Ensino_Fundamental_II': 1, '4_Ensino_Superior': 0, '1_Ensino_Fundamental_I': 0}\n",
      "{'3_Ensino_Medio': 0, '2_Ensino_Fundamental_II': 1, '4_Ensino_Superior': 0, '1_Ensino_Fundamental_I': 0}\n",
      "{'3_Ensino_Medio': 0, '2_Ensino_Fundamental_II': 1, '4_Ensino_Superior': 0, '1_Ensino_Fundamental_I': 0}\n",
      "{'3_Ensino_Medio': 0, '2_Ensino_Fundamental_II': 1, '4_Ensino_Superior': 0, '1_Ensino_Fundamental_I': 0}\n",
      "{'3_Ensino_Medio': 0, '2_Ensino_Fundamental_II': 1, '4_Ensino_Superior': 0, '1_Ensino_Fundamental_I': 0}\n",
      "{'3_Ensino_Medio': 0, '2_Ensino_Fundamental_II': 1, '4_Ensino_Superior': 0, '1_Ensino_Fundamental_I': 0}\n",
      "{'3_Ensino_Medio': 0, '2_Ensino_Fundamental_II': 1, '4_Ensino_Superior': 0, '1_Ensino_Fundamental_I': 0}\n",
      "{'3_Ensino_Medio': 0, '2_Ensino_Fundamental_II': 1, '4_Ensino_Superior': 0, '1_Ensino_Fundamental_I': 0}\n",
      "{'3_Ensino_Medio': 0, '2_Ensino_Fundamental_II': 1, '4_Ensino_Superior': 0, '1_Ensino_Fundamental_I': 0}\n",
      "{'3_Ensino_Medio': 0, '2_Ensino_Fundamental_II': 1, '4_Ensino_Superior': 0, '1_Ensino_Fundamental_I': 0}\n",
      "{'3_Ensino_Medio': 0, '2_Ensino_Fundamental_II': 1, '4_Ensino_Superior': 0, '1_Ensino_Fundamental_I': 0}\n",
      "{'3_Ensino_Medio': 0, '2_Ensino_Fundamental_II': 1, '4_Ensino_Superior': 0, '1_Ensino_Fundamental_I': 0}\n",
      "{'3_Ensino_Medio': 0, '2_Ensino_Fundamental_II': 1, '4_Ensino_Superior': 0, '1_Ensino_Fundamental_I': 0}\n",
      "{'3_Ensino_Medio': 0, '2_Ensino_Fundamental_II': 1, '4_Ensino_Superior': 0, '1_Ensino_Fundamental_I': 0}\n",
      "{'3_Ensino_Medio': 0, '2_Ensino_Fundamental_II': 1, '4_Ensino_Superior': 0, '1_Ensino_Fundamental_I': 0}\n",
      "{'3_Ensino_Medio': 0, '2_Ensino_Fundamental_II': 1, '4_Ensino_Superior': 0, '1_Ensino_Fundamental_I': 0}\n",
      "{'3_Ensino_Medio': 0, '2_Ensino_Fundamental_II': 1, '4_Ensino_Superior': 0, '1_Ensino_Fundamental_I': 0}\n",
      "{'3_Ensino_Medio': 0, '2_Ensino_Fundamental_II': 1, '4_Ensino_Superior': 0, '1_Ensino_Fundamental_I': 0}\n",
      "{'3_Ensino_Medio': 0, '2_Ensino_Fundamental_II': 1, '4_Ensino_Superior': 0, '1_Ensino_Fundamental_I': 0}\n",
      "{'3_Ensino_Medio': 0, '2_Ensino_Fundamental_II': 1, '4_Ensino_Superior': 0, '1_Ensino_Fundamental_I': 0}\n",
      "{'3_Ensino_Medio': 0, '2_Ensino_Fundamental_II': 1, '4_Ensino_Superior': 0, '1_Ensino_Fundamental_I': 0}\n",
      "{'3_Ensino_Medio': 0, '2_Ensino_Fundamental_II': 1, '4_Ensino_Superior': 0, '1_Ensino_Fundamental_I': 0}\n",
      "{'3_Ensino_Medio': 0, '2_Ensino_Fundamental_II': 1, '4_Ensino_Superior': 0, '1_Ensino_Fundamental_I': 0}\n",
      "{'3_Ensino_Medio': 0, '2_Ensino_Fundamental_II': 1, '4_Ensino_Superior': 0, '1_Ensino_Fundamental_I': 0}\n",
      "{'3_Ensino_Medio': 0, '2_Ensino_Fundamental_II': 1, '4_Ensino_Superior': 0, '1_Ensino_Fundamental_I': 0}\n",
      "{'3_Ensino_Medio': 0, '2_Ensino_Fundamental_II': 1, '4_Ensino_Superior': 0, '1_Ensino_Fundamental_I': 0}\n",
      "{'3_Ensino_Medio': 0, '2_Ensino_Fundamental_II': 1, '4_Ensino_Superior': 0, '1_Ensino_Fundamental_I': 0}\n",
      "{'3_Ensino_Medio': 0, '2_Ensino_Fundamental_II': 1, '4_Ensino_Superior': 0, '1_Ensino_Fundamental_I': 0}\n",
      "{'3_Ensino_Medio': 0, '2_Ensino_Fundamental_II': 1, '4_Ensino_Superior': 0, '1_Ensino_Fundamental_I': 0}\n",
      "{'3_Ensino_Medio': 0, '2_Ensino_Fundamental_II': 1, '4_Ensino_Superior': 0, '1_Ensino_Fundamental_I': 0}\n",
      "{'3_Ensino_Medio': 0, '2_Ensino_Fundamental_II': 1, '4_Ensino_Superior': 0, '1_Ensino_Fundamental_I': 0}\n",
      "{'3_Ensino_Medio': 0, '2_Ensino_Fundamental_II': 1, '4_Ensino_Superior': 0, '1_Ensino_Fundamental_I': 0}\n",
      "{'3_Ensino_Medio': 0, '2_Ensino_Fundamental_II': 1, '4_Ensino_Superior': 0, '1_Ensino_Fundamental_I': 0}\n",
      "{'3_Ensino_Medio': 0, '2_Ensino_Fundamental_II': 0, '4_Ensino_Superior': 1, '1_Ensino_Fundamental_I': 0}\n",
      "{'3_Ensino_Medio': 0, '2_Ensino_Fundamental_II': 0, '4_Ensino_Superior': 1, '1_Ensino_Fundamental_I': 0}\n",
      "{'3_Ensino_Medio': 0, '2_Ensino_Fundamental_II': 0, '4_Ensino_Superior': 1, '1_Ensino_Fundamental_I': 0}\n",
      "{'3_Ensino_Medio': 0, '2_Ensino_Fundamental_II': 0, '4_Ensino_Superior': 1, '1_Ensino_Fundamental_I': 0}\n",
      "{'3_Ensino_Medio': 0, '2_Ensino_Fundamental_II': 0, '4_Ensino_Superior': 1, '1_Ensino_Fundamental_I': 0}\n",
      "{'3_Ensino_Medio': 0, '2_Ensino_Fundamental_II': 0, '4_Ensino_Superior': 1, '1_Ensino_Fundamental_I': 0}\n",
      "{'3_Ensino_Medio': 0, '2_Ensino_Fundamental_II': 0, '4_Ensino_Superior': 1, '1_Ensino_Fundamental_I': 0}\n",
      "{'3_Ensino_Medio': 0, '2_Ensino_Fundamental_II': 0, '4_Ensino_Superior': 1, '1_Ensino_Fundamental_I': 0}\n",
      "{'3_Ensino_Medio': 0, '2_Ensino_Fundamental_II': 0, '4_Ensino_Superior': 1, '1_Ensino_Fundamental_I': 0}\n",
      "{'3_Ensino_Medio': 0, '2_Ensino_Fundamental_II': 0, '4_Ensino_Superior': 1, '1_Ensino_Fundamental_I': 0}\n",
      "{'3_Ensino_Medio': 0, '2_Ensino_Fundamental_II': 0, '4_Ensino_Superior': 1, '1_Ensino_Fundamental_I': 0}\n",
      "{'3_Ensino_Medio': 0, '2_Ensino_Fundamental_II': 0, '4_Ensino_Superior': 1, '1_Ensino_Fundamental_I': 0}\n",
      "{'3_Ensino_Medio': 0, '2_Ensino_Fundamental_II': 0, '4_Ensino_Superior': 1, '1_Ensino_Fundamental_I': 0}\n",
      "{'3_Ensino_Medio': 0, '2_Ensino_Fundamental_II': 0, '4_Ensino_Superior': 1, '1_Ensino_Fundamental_I': 0}\n",
      "{'3_Ensino_Medio': 0, '2_Ensino_Fundamental_II': 0, '4_Ensino_Superior': 1, '1_Ensino_Fundamental_I': 0}\n",
      "{'3_Ensino_Medio': 0, '2_Ensino_Fundamental_II': 0, '4_Ensino_Superior': 1, '1_Ensino_Fundamental_I': 0}\n",
      "{'3_Ensino_Medio': 0, '2_Ensino_Fundamental_II': 0, '4_Ensino_Superior': 1, '1_Ensino_Fundamental_I': 0}\n",
      "{'3_Ensino_Medio': 0, '2_Ensino_Fundamental_II': 0, '4_Ensino_Superior': 1, '1_Ensino_Fundamental_I': 0}\n",
      "{'3_Ensino_Medio': 0, '2_Ensino_Fundamental_II': 0, '4_Ensino_Superior': 1, '1_Ensino_Fundamental_I': 0}\n",
      "{'3_Ensino_Medio': 0, '2_Ensino_Fundamental_II': 0, '4_Ensino_Superior': 1, '1_Ensino_Fundamental_I': 0}\n",
      "{'3_Ensino_Medio': 0, '2_Ensino_Fundamental_II': 0, '4_Ensino_Superior': 1, '1_Ensino_Fundamental_I': 0}\n",
      "{'3_Ensino_Medio': 0, '2_Ensino_Fundamental_II': 0, '4_Ensino_Superior': 1, '1_Ensino_Fundamental_I': 0}\n",
      "{'3_Ensino_Medio': 0, '2_Ensino_Fundamental_II': 0, '4_Ensino_Superior': 1, '1_Ensino_Fundamental_I': 0}\n",
      "{'3_Ensino_Medio': 0, '2_Ensino_Fundamental_II': 0, '4_Ensino_Superior': 1, '1_Ensino_Fundamental_I': 0}\n",
      "{'3_Ensino_Medio': 0, '2_Ensino_Fundamental_II': 0, '4_Ensino_Superior': 1, '1_Ensino_Fundamental_I': 0}\n",
      "{'3_Ensino_Medio': 0, '2_Ensino_Fundamental_II': 0, '4_Ensino_Superior': 1, '1_Ensino_Fundamental_I': 0}\n",
      "{'3_Ensino_Medio': 0, '2_Ensino_Fundamental_II': 0, '4_Ensino_Superior': 1, '1_Ensino_Fundamental_I': 0}\n",
      "{'3_Ensino_Medio': 0, '2_Ensino_Fundamental_II': 0, '4_Ensino_Superior': 1, '1_Ensino_Fundamental_I': 0}\n",
      "{'3_Ensino_Medio': 0, '2_Ensino_Fundamental_II': 0, '4_Ensino_Superior': 1, '1_Ensino_Fundamental_I': 0}\n",
      "{'3_Ensino_Medio': 0, '2_Ensino_Fundamental_II': 0, '4_Ensino_Superior': 1, '1_Ensino_Fundamental_I': 0}\n",
      "{'3_Ensino_Medio': 0, '2_Ensino_Fundamental_II': 0, '4_Ensino_Superior': 1, '1_Ensino_Fundamental_I': 0}\n",
      "{'3_Ensino_Medio': 0, '2_Ensino_Fundamental_II': 0, '4_Ensino_Superior': 1, '1_Ensino_Fundamental_I': 0}\n",
      "{'3_Ensino_Medio': 0, '2_Ensino_Fundamental_II': 0, '4_Ensino_Superior': 1, '1_Ensino_Fundamental_I': 0}\n",
      "{'3_Ensino_Medio': 0, '2_Ensino_Fundamental_II': 0, '4_Ensino_Superior': 1, '1_Ensino_Fundamental_I': 0}\n",
      "{'3_Ensino_Medio': 0, '2_Ensino_Fundamental_II': 0, '4_Ensino_Superior': 1, '1_Ensino_Fundamental_I': 0}\n",
      "{'3_Ensino_Medio': 0, '2_Ensino_Fundamental_II': 0, '4_Ensino_Superior': 1, '1_Ensino_Fundamental_I': 0}\n",
      "{'3_Ensino_Medio': 0, '2_Ensino_Fundamental_II': 0, '4_Ensino_Superior': 1, '1_Ensino_Fundamental_I': 0}\n",
      "{'3_Ensino_Medio': 0, '2_Ensino_Fundamental_II': 0, '4_Ensino_Superior': 1, '1_Ensino_Fundamental_I': 0}\n",
      "{'3_Ensino_Medio': 0, '2_Ensino_Fundamental_II': 0, '4_Ensino_Superior': 1, '1_Ensino_Fundamental_I': 0}\n",
      "{'3_Ensino_Medio': 0, '2_Ensino_Fundamental_II': 0, '4_Ensino_Superior': 1, '1_Ensino_Fundamental_I': 0}\n",
      "{'3_Ensino_Medio': 0, '2_Ensino_Fundamental_II': 0, '4_Ensino_Superior': 1, '1_Ensino_Fundamental_I': 0}\n",
      "{'3_Ensino_Medio': 0, '2_Ensino_Fundamental_II': 0, '4_Ensino_Superior': 1, '1_Ensino_Fundamental_I': 0}\n",
      "{'3_Ensino_Medio': 0, '2_Ensino_Fundamental_II': 0, '4_Ensino_Superior': 1, '1_Ensino_Fundamental_I': 0}\n",
      "{'3_Ensino_Medio': 0, '2_Ensino_Fundamental_II': 0, '4_Ensino_Superior': 1, '1_Ensino_Fundamental_I': 0}\n",
      "{'3_Ensino_Medio': 0, '2_Ensino_Fundamental_II': 0, '4_Ensino_Superior': 1, '1_Ensino_Fundamental_I': 0}\n",
      "{'3_Ensino_Medio': 0, '2_Ensino_Fundamental_II': 0, '4_Ensino_Superior': 1, '1_Ensino_Fundamental_I': 0}\n",
      "{'3_Ensino_Medio': 0, '2_Ensino_Fundamental_II': 0, '4_Ensino_Superior': 1, '1_Ensino_Fundamental_I': 0}\n",
      "{'3_Ensino_Medio': 0, '2_Ensino_Fundamental_II': 0, '4_Ensino_Superior': 1, '1_Ensino_Fundamental_I': 0}\n",
      "{'3_Ensino_Medio': 0, '2_Ensino_Fundamental_II': 0, '4_Ensino_Superior': 1, '1_Ensino_Fundamental_I': 0}\n",
      "{'3_Ensino_Medio': 0, '2_Ensino_Fundamental_II': 0, '4_Ensino_Superior': 1, '1_Ensino_Fundamental_I': 0}\n",
      "{'3_Ensino_Medio': 0, '2_Ensino_Fundamental_II': 0, '4_Ensino_Superior': 1, '1_Ensino_Fundamental_I': 0}\n",
      "{'3_Ensino_Medio': 0, '2_Ensino_Fundamental_II': 0, '4_Ensino_Superior': 1, '1_Ensino_Fundamental_I': 0}\n",
      "{'3_Ensino_Medio': 0, '2_Ensino_Fundamental_II': 0, '4_Ensino_Superior': 1, '1_Ensino_Fundamental_I': 0}\n",
      "{'3_Ensino_Medio': 0, '2_Ensino_Fundamental_II': 0, '4_Ensino_Superior': 1, '1_Ensino_Fundamental_I': 0}\n",
      "{'3_Ensino_Medio': 0, '2_Ensino_Fundamental_II': 0, '4_Ensino_Superior': 1, '1_Ensino_Fundamental_I': 0}\n",
      "{'3_Ensino_Medio': 0, '2_Ensino_Fundamental_II': 0, '4_Ensino_Superior': 1, '1_Ensino_Fundamental_I': 0}\n",
      "{'3_Ensino_Medio': 0, '2_Ensino_Fundamental_II': 0, '4_Ensino_Superior': 1, '1_Ensino_Fundamental_I': 0}\n",
      "{'3_Ensino_Medio': 0, '2_Ensino_Fundamental_II': 0, '4_Ensino_Superior': 1, '1_Ensino_Fundamental_I': 0}\n",
      "{'3_Ensino_Medio': 0, '2_Ensino_Fundamental_II': 0, '4_Ensino_Superior': 1, '1_Ensino_Fundamental_I': 0}\n",
      "{'3_Ensino_Medio': 0, '2_Ensino_Fundamental_II': 0, '4_Ensino_Superior': 1, '1_Ensino_Fundamental_I': 0}\n",
      "{'3_Ensino_Medio': 0, '2_Ensino_Fundamental_II': 0, '4_Ensino_Superior': 1, '1_Ensino_Fundamental_I': 0}\n",
      "{'3_Ensino_Medio': 0, '2_Ensino_Fundamental_II': 0, '4_Ensino_Superior': 1, '1_Ensino_Fundamental_I': 0}\n",
      "{'3_Ensino_Medio': 0, '2_Ensino_Fundamental_II': 0, '4_Ensino_Superior': 1, '1_Ensino_Fundamental_I': 0}\n",
      "{'3_Ensino_Medio': 0, '2_Ensino_Fundamental_II': 0, '4_Ensino_Superior': 1, '1_Ensino_Fundamental_I': 0}\n",
      "{'3_Ensino_Medio': 0, '2_Ensino_Fundamental_II': 0, '4_Ensino_Superior': 1, '1_Ensino_Fundamental_I': 0}\n",
      "{'3_Ensino_Medio': 0, '2_Ensino_Fundamental_II': 0, '4_Ensino_Superior': 1, '1_Ensino_Fundamental_I': 0}\n",
      "{'3_Ensino_Medio': 0, '2_Ensino_Fundamental_II': 0, '4_Ensino_Superior': 1, '1_Ensino_Fundamental_I': 0}\n",
      "{'3_Ensino_Medio': 0, '2_Ensino_Fundamental_II': 0, '4_Ensino_Superior': 1, '1_Ensino_Fundamental_I': 0}\n",
      "{'3_Ensino_Medio': 0, '2_Ensino_Fundamental_II': 0, '4_Ensino_Superior': 1, '1_Ensino_Fundamental_I': 0}\n",
      "{'3_Ensino_Medio': 0, '2_Ensino_Fundamental_II': 0, '4_Ensino_Superior': 1, '1_Ensino_Fundamental_I': 0}\n",
      "{'3_Ensino_Medio': 0, '2_Ensino_Fundamental_II': 0, '4_Ensino_Superior': 1, '1_Ensino_Fundamental_I': 0}\n",
      "{'3_Ensino_Medio': 0, '2_Ensino_Fundamental_II': 0, '4_Ensino_Superior': 1, '1_Ensino_Fundamental_I': 0}\n",
      "{'3_Ensino_Medio': 0, '2_Ensino_Fundamental_II': 0, '4_Ensino_Superior': 1, '1_Ensino_Fundamental_I': 0}\n",
      "{'3_Ensino_Medio': 0, '2_Ensino_Fundamental_II': 0, '4_Ensino_Superior': 1, '1_Ensino_Fundamental_I': 0}\n",
      "{'3_Ensino_Medio': 0, '2_Ensino_Fundamental_II': 0, '4_Ensino_Superior': 1, '1_Ensino_Fundamental_I': 0}\n",
      "{'3_Ensino_Medio': 0, '2_Ensino_Fundamental_II': 0, '4_Ensino_Superior': 1, '1_Ensino_Fundamental_I': 0}\n",
      "{'3_Ensino_Medio': 0, '2_Ensino_Fundamental_II': 0, '4_Ensino_Superior': 1, '1_Ensino_Fundamental_I': 0}\n",
      "{'3_Ensino_Medio': 0, '2_Ensino_Fundamental_II': 0, '4_Ensino_Superior': 1, '1_Ensino_Fundamental_I': 0}\n",
      "{'3_Ensino_Medio': 0, '2_Ensino_Fundamental_II': 0, '4_Ensino_Superior': 1, '1_Ensino_Fundamental_I': 0}\n",
      "{'3_Ensino_Medio': 0, '2_Ensino_Fundamental_II': 0, '4_Ensino_Superior': 1, '1_Ensino_Fundamental_I': 0}\n",
      "{'3_Ensino_Medio': 0, '2_Ensino_Fundamental_II': 0, '4_Ensino_Superior': 1, '1_Ensino_Fundamental_I': 0}\n",
      "{'3_Ensino_Medio': 0, '2_Ensino_Fundamental_II': 0, '4_Ensino_Superior': 1, '1_Ensino_Fundamental_I': 0}\n",
      "{'3_Ensino_Medio': 0, '2_Ensino_Fundamental_II': 0, '4_Ensino_Superior': 0, '1_Ensino_Fundamental_I': 1}\n",
      "{'3_Ensino_Medio': 0, '2_Ensino_Fundamental_II': 0, '4_Ensino_Superior': 0, '1_Ensino_Fundamental_I': 1}\n",
      "{'3_Ensino_Medio': 0, '2_Ensino_Fundamental_II': 0, '4_Ensino_Superior': 0, '1_Ensino_Fundamental_I': 1}\n",
      "{'3_Ensino_Medio': 0, '2_Ensino_Fundamental_II': 0, '4_Ensino_Superior': 0, '1_Ensino_Fundamental_I': 1}\n",
      "{'3_Ensino_Medio': 0, '2_Ensino_Fundamental_II': 0, '4_Ensino_Superior': 0, '1_Ensino_Fundamental_I': 1}\n",
      "{'3_Ensino_Medio': 0, '2_Ensino_Fundamental_II': 0, '4_Ensino_Superior': 0, '1_Ensino_Fundamental_I': 1}\n",
      "{'3_Ensino_Medio': 0, '2_Ensino_Fundamental_II': 0, '4_Ensino_Superior': 0, '1_Ensino_Fundamental_I': 1}\n",
      "{'3_Ensino_Medio': 0, '2_Ensino_Fundamental_II': 0, '4_Ensino_Superior': 0, '1_Ensino_Fundamental_I': 1}\n",
      "{'3_Ensino_Medio': 0, '2_Ensino_Fundamental_II': 0, '4_Ensino_Superior': 0, '1_Ensino_Fundamental_I': 1}\n",
      "{'3_Ensino_Medio': 0, '2_Ensino_Fundamental_II': 0, '4_Ensino_Superior': 0, '1_Ensino_Fundamental_I': 1}\n",
      "{'3_Ensino_Medio': 0, '2_Ensino_Fundamental_II': 0, '4_Ensino_Superior': 0, '1_Ensino_Fundamental_I': 1}\n",
      "{'3_Ensino_Medio': 0, '2_Ensino_Fundamental_II': 0, '4_Ensino_Superior': 0, '1_Ensino_Fundamental_I': 1}\n",
      "{'3_Ensino_Medio': 0, '2_Ensino_Fundamental_II': 0, '4_Ensino_Superior': 0, '1_Ensino_Fundamental_I': 1}\n",
      "{'3_Ensino_Medio': 0, '2_Ensino_Fundamental_II': 0, '4_Ensino_Superior': 0, '1_Ensino_Fundamental_I': 1}\n",
      "{'3_Ensino_Medio': 0, '2_Ensino_Fundamental_II': 0, '4_Ensino_Superior': 0, '1_Ensino_Fundamental_I': 1}\n",
      "{'3_Ensino_Medio': 0, '2_Ensino_Fundamental_II': 0, '4_Ensino_Superior': 0, '1_Ensino_Fundamental_I': 1}\n",
      "{'3_Ensino_Medio': 0, '2_Ensino_Fundamental_II': 0, '4_Ensino_Superior': 0, '1_Ensino_Fundamental_I': 1}\n",
      "{'3_Ensino_Medio': 0, '2_Ensino_Fundamental_II': 0, '4_Ensino_Superior': 0, '1_Ensino_Fundamental_I': 1}\n",
      "{'3_Ensino_Medio': 0, '2_Ensino_Fundamental_II': 0, '4_Ensino_Superior': 0, '1_Ensino_Fundamental_I': 1}\n",
      "{'3_Ensino_Medio': 0, '2_Ensino_Fundamental_II': 0, '4_Ensino_Superior': 0, '1_Ensino_Fundamental_I': 1}\n",
      "{'3_Ensino_Medio': 0, '2_Ensino_Fundamental_II': 0, '4_Ensino_Superior': 0, '1_Ensino_Fundamental_I': 1}\n",
      "{'3_Ensino_Medio': 0, '2_Ensino_Fundamental_II': 0, '4_Ensino_Superior': 0, '1_Ensino_Fundamental_I': 1}\n",
      "{'3_Ensino_Medio': 0, '2_Ensino_Fundamental_II': 0, '4_Ensino_Superior': 0, '1_Ensino_Fundamental_I': 1}\n",
      "{'3_Ensino_Medio': 0, '2_Ensino_Fundamental_II': 0, '4_Ensino_Superior': 0, '1_Ensino_Fundamental_I': 1}\n",
      "{'3_Ensino_Medio': 0, '2_Ensino_Fundamental_II': 0, '4_Ensino_Superior': 0, '1_Ensino_Fundamental_I': 1}\n",
      "{'3_Ensino_Medio': 0, '2_Ensino_Fundamental_II': 0, '4_Ensino_Superior': 0, '1_Ensino_Fundamental_I': 1}\n",
      "{'3_Ensino_Medio': 0, '2_Ensino_Fundamental_II': 0, '4_Ensino_Superior': 0, '1_Ensino_Fundamental_I': 1}\n"
     ]
    }
   ],
   "source": [
    "clean_train_docs = []\n",
    "clean_test_docs = []\n",
    "clean_eval_docs = []\n",
    "\n",
    "for item in clean_train:\n",
    "    doc = nlp(item[0])\n",
    "    doc.cats = item[1]\n",
    "    clean_train_docs.append(doc)\n",
    "for item in clean_test:\n",
    "    print(item[1])\n",
    "    doc = nlp(item[0])\n",
    "    doc.cats = item[1]\n",
    "    clean_test_docs.append(doc)\n",
    "for item in clean_eval:\n",
    "    doc = nlp(item[0])\n",
    "    doc.cats = item[1]\n",
    "    clean_eval_docs.append(doc)"
   ]
  },
  {
   "cell_type": "code",
   "execution_count": 54,
   "id": "135ebd80-2dc5-4d08-8c18-3d2cdee40192",
   "metadata": {},
   "outputs": [],
   "source": [
    "doc_bin = DocBin(docs=clean_train_docs)\n",
    "doc_bin.to_disk(\"./doc_bins/textcat_2_train.spacy\")\n",
    "\n",
    "doc_bin_eval = DocBin(docs=clean_eval_docs)\n",
    "doc_bin_eval.to_disk(\"./doc_bins/textcat_2_eval.spacy\")"
   ]
  },
  {
   "cell_type": "markdown",
   "id": "244676b2-d1ba-44dc-8e7a-ba1c2cd044e3",
   "metadata": {},
   "source": [
    "#### Treinando Modelo 2"
   ]
  },
  {
   "cell_type": "code",
   "execution_count": 55,
   "id": "3b02b977-9dff-4f6f-a13c-0dbe8b1ee894",
   "metadata": {},
   "outputs": [
    {
     "name": "stdout",
     "output_type": "stream",
     "text": [
      "[2022-10-10 08:34:17,739] [DEBUG] Config overrides from CLI: ['paths.train', 'paths.dev']\n",
      "\u001b[38;5;2m✔ Created output directory: textcat_2_output\u001b[0m\n",
      "\u001b[38;5;4mℹ Saving to output directory: textcat_2_output\u001b[0m\n",
      "\u001b[38;5;4mℹ Using CPU\u001b[0m\n",
      "\u001b[1m\n",
      "=========================== Initializing pipeline ===========================\u001b[0m\n",
      "[2022-10-10 08:34:17,946] [INFO] Set up nlp object from config\n",
      "[2022-10-10 08:34:17,968] [DEBUG] Loading corpus from path: doc_bins/textcat_2_eval.spacy\n",
      "[2022-10-10 08:34:17,971] [DEBUG] Loading corpus from path: doc_bins/textcat_2_train.spacy\n",
      "[2022-10-10 08:34:17,971] [INFO] Pipeline: ['textcat']\n",
      "[2022-10-10 08:34:17,976] [INFO] Created vocabulary\n",
      "[2022-10-10 08:34:17,979] [INFO] Finished initializing nlp object\n",
      "[2022-10-10 08:34:27,546] [INFO] Initialized pipeline components: ['textcat']\n",
      "\u001b[38;5;2m✔ Initialized pipeline\u001b[0m\n",
      "\u001b[1m\n",
      "============================= Training pipeline =============================\u001b[0m\n",
      "[2022-10-10 08:34:27,564] [DEBUG] Loading corpus from path: doc_bins/textcat_2_eval.spacy\n",
      "[2022-10-10 08:34:27,566] [DEBUG] Loading corpus from path: doc_bins/textcat_2_train.spacy\n",
      "\u001b[38;5;4mℹ Pipeline: ['textcat']\u001b[0m\n",
      "\u001b[38;5;4mℹ Initial learn rate: 0.001\u001b[0m\n",
      "E    #       LOSS TEXTCAT  CATS_SCORE  SCORE \n",
      "---  ------  ------------  ----------  ------\n",
      "  0       0          0.19        0.00    0.00\n",
      "  0     200         15.78       60.07    0.60\n",
      "  0     400         12.96       65.11    0.65\n",
      "  0     600         10.30       64.55    0.65\n",
      "  0     800         13.09       65.78    0.66\n",
      "  0    1000         11.31       63.14    0.63\n",
      "  0    1200         11.87       65.26    0.65\n",
      "  0    1400         12.00       65.77    0.66\n",
      "  0    1600         11.63       66.32    0.66\n",
      "  1    1800         10.22       63.81    0.64\n",
      "  1    2000         10.73       61.57    0.62\n",
      "  1    2200         10.55       67.22    0.67\n",
      "  1    2400          7.67       65.93    0.66\n",
      "  1    2600         10.12       65.11    0.65\n",
      "  1    2800         10.46       61.56    0.62\n",
      "  1    3000         10.56       65.14    0.65\n",
      "  1    3200         11.07       61.77    0.62\n",
      "  2    3400         11.67       63.07    0.63\n",
      "  2    3600         14.24       65.96    0.66\n",
      "  2    3800         12.12       65.62    0.66\n",
      "\u001b[38;5;2m✔ Saved pipeline to output directory\u001b[0m\n",
      "textcat_2_output/model-last\n"
     ]
    }
   ],
   "source": [
    "!python -m spacy train textcat_config.cfg --verbose --output ./textcat_2_output --paths.train ./doc_bins/textcat_2_train.spacy --paths.dev ./doc_bins/textcat_2_eval.spacy"
   ]
  },
  {
   "cell_type": "markdown",
   "id": "f0fd47f9-e2e3-4c03-a04e-00b6f26177ed",
   "metadata": {},
   "source": [
    "#### Testando manualmente Modelo 2"
   ]
  },
  {
   "cell_type": "code",
   "execution_count": 57,
   "id": "a756a70e-4e8d-4ed3-ae3b-502f9a88cf65",
   "metadata": {},
   "outputs": [
    {
     "name": "stdout",
     "output_type": "stream",
     "text": [
      "Nivel certo:  {'3_Ensino_Medio': 0, '2_Ensino_Fundamental_II': 0, '4_Ensino_Superior': 0, '1_Ensino_Fundamental_I': 0}\n",
      "Texto: placa formar diversos tipo proteína desmoplaquina placoglobina placofilino dentre proteína conhecer caderina desmogleína desmocolino presente junção aderente proteína presente junção oclusivo nectino afadina formar complexo afadina-nectino ocorrer junção oclusivo desmossoma junção celular constituir parte de ele membrana célula membrana célula vizinho desmossoma consistir placa circular proteína placa desmossoma célula placa desmossoma partir filamento constituír proteína atravessar membrana plasmático atingir espaço intercelular associar filamento oriunr placa desmossoma célula vizinho associação filamento espaço intercelular manter firmemente unir placa desmossômico conseqüentemente célula contêr placa desmossoma voltar interior célula liga-se filamento queratina citoesqueleto promover firme ancoramento desmossomo estrutura celular poder desmossomas permitir associação citoesqueleto célula adjacente observar união célula desmossoma microscópio eletrônico poder distinguir seguinte região porção elétron-densa escuro abaixo membrana plasmática célula vizinho correspondente placa desmossoma região filamento denso elétrons sair placa ir direção citoplasma corresponder filamento intermediário queratina tonofilamento região denso espaço célula vizinho chamar linha médio denso placa desmossoma constituir várias proteína dentre desmoplaquina i ii placoglobinar placofilino filamento espaço intercelular formar glicoproteína caderina especificamente desmocolino desmogleína aderir placa desmossoma fibra caderina vindas desmossoma célula vizinho desmocolina desmogleína proteína integral membrana emitir prolongamento interior citoplasma extracelular\n",
      "Nivel do modelo:\n",
      "{'3_Ensino_Medio': 0.0001799769961507991, '2_Ensino_Fundamental_II': 0.24780870974063873, '4_Ensino_Superior': 0.7504133582115173, '1_Ensino_Fundamental_I': 0.001597915543243289}\n"
     ]
    }
   ],
   "source": [
    "nlp_textcat_2 = spacy.load(\"textcat_output/model-best\")\n",
    "print(\"Nivel certo: \", clean_test_docs[1].cats) \n",
    "clean_doc = nlp_textcat_2(clean_test_docs[1].text)\n",
    "print(\"Texto: \"+ clean_doc.text)\n",
    "print(\"Nivel do modelo:\") \n",
    "print(doc2.cats)"
   ]
  },
  {
   "cell_type": "code",
   "execution_count": null,
   "id": "94e8f14e-bd51-4461-bff8-19954b00316f",
   "metadata": {},
   "outputs": [],
   "source": []
  }
 ],
 "metadata": {
  "kernelspec": {
   "display_name": "Python 3 (ipykernel)",
   "language": "python",
   "name": "python3"
  },
  "language_info": {
   "codemirror_mode": {
    "name": "ipython",
    "version": 3
   },
   "file_extension": ".py",
   "mimetype": "text/x-python",
   "name": "python",
   "nbconvert_exporter": "python",
   "pygments_lexer": "ipython3",
   "version": "3.10.6"
  }
 },
 "nbformat": 4,
 "nbformat_minor": 5
}
